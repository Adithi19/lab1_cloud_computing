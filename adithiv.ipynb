{
  "nbformat": 4,
  "nbformat_minor": 0,
  "metadata": {
    "colab": {
      "provenance": []
    },
    "kernelspec": {
      "name": "python3",
      "display_name": "Python 3"
    },
    "language_info": {
      "name": "python"
    }
  },
  "cells": [
    {
      "cell_type": "code",
      "execution_count": null,
      "metadata": {
        "colab": {
          "base_uri": "https://localhost:8080/"
        },
        "id": "I5a4tnHzT_zF",
        "outputId": "08e78386-0706-4921-ffcf-a002c9edddb5"
      },
      "outputs": [
        {
          "output_type": "stream",
          "name": "stdout",
          "text": [
            "Training Features [[10.0], [7.0], [5.0], [8.0]]\n",
            "Training Labels [20, 14, 10, 16]\n",
            "Training Data [[6.0], [9.0], [4.0]]\n",
            "Testing Data [12, 18, 8]\n",
            "Accuracy - test set: 100.00%\n",
            "[12. 18.  8.]\n"
          ]
        }
      ],
      "source": [
        "#import modules\n",
        "import warnings\n",
        "import pandas as pd\n",
        "from sklearn import model_selection\n",
        "import numpy as np\n",
        "import sklearn\n",
        "from sklearn import linear_model\n",
        "X=[[4.0],[5.0],[6.0],[7.0],[8.0],[9.0],[10.0]]\n",
        "y=[  8, 10 , 12, 14, 16, 18, 20]\n",
        "X_train, X_test, y_train, y_test = model_selection.train_test_split(X, y, test_size=0.3, random_state=7)\n",
        "print(\"Training Features\", X_train);print(\"Training Labels\",y_train);print(\"Training Data\",X_test);print(\"Testing Data\",y_test)\n",
        "reg=linear_model.LinearRegression()\n",
        "reg.fit(X_train,y_train)\n",
        "#accuracy on test set\n",
        "result = reg.score(X_test, y_test)\n",
        "print(\"Accuracy - test set: %.2f%%\" % (result*100.0))\n",
        "X_height=[[12.0]]\n",
        "print(reg.predict(X_test))"
      ]
    }
  ]
}
